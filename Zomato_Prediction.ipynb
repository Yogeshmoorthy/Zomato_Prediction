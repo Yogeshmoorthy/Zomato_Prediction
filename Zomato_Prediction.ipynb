{
 "cells": [
  {
   "cell_type": "code",
   "execution_count": 1,
   "metadata": {},
   "outputs": [
    {
     "data": {
      "text/html": [
       "<div>\n",
       "<style scoped>\n",
       "    .dataframe tbody tr th:only-of-type {\n",
       "        vertical-align: middle;\n",
       "    }\n",
       "\n",
       "    .dataframe tbody tr th {\n",
       "        vertical-align: top;\n",
       "    }\n",
       "\n",
       "    .dataframe thead th {\n",
       "        text-align: right;\n",
       "    }\n",
       "</style>\n",
       "<table border=\"1\" class=\"dataframe\">\n",
       "  <thead>\n",
       "    <tr style=\"text-align: right;\">\n",
       "      <th></th>\n",
       "      <th>url</th>\n",
       "      <th>address</th>\n",
       "      <th>name</th>\n",
       "      <th>online_order</th>\n",
       "      <th>book_table</th>\n",
       "      <th>rate</th>\n",
       "      <th>votes</th>\n",
       "      <th>phone</th>\n",
       "      <th>location</th>\n",
       "      <th>rest_type</th>\n",
       "      <th>dish_liked</th>\n",
       "      <th>cuisines</th>\n",
       "      <th>approx_cost(for two people)</th>\n",
       "      <th>reviews_list</th>\n",
       "      <th>menu_item</th>\n",
       "      <th>listed_in(type)</th>\n",
       "      <th>listed_in(city)</th>\n",
       "    </tr>\n",
       "  </thead>\n",
       "  <tbody>\n",
       "    <tr>\n",
       "      <th>0</th>\n",
       "      <td>https://www.zomato.com/bangalore/jalsa-banasha...</td>\n",
       "      <td>942, 21st Main Road, 2nd Stage, Banashankari, ...</td>\n",
       "      <td>Jalsa</td>\n",
       "      <td>Yes</td>\n",
       "      <td>Yes</td>\n",
       "      <td>4.1/5</td>\n",
       "      <td>775</td>\n",
       "      <td>080 42297555\\r\\n+91 9743772233</td>\n",
       "      <td>Banashankari</td>\n",
       "      <td>Casual Dining</td>\n",
       "      <td>Pasta, Lunch Buffet, Masala Papad, Paneer Laja...</td>\n",
       "      <td>North Indian, Mughlai, Chinese</td>\n",
       "      <td>800</td>\n",
       "      <td>[('Rated 4.0', 'RATED\\n  A beautiful place to ...</td>\n",
       "      <td>[]</td>\n",
       "      <td>Buffet</td>\n",
       "      <td>Banashankari</td>\n",
       "    </tr>\n",
       "    <tr>\n",
       "      <th>1</th>\n",
       "      <td>https://www.zomato.com/bangalore/spice-elephan...</td>\n",
       "      <td>2nd Floor, 80 Feet Road, Near Big Bazaar, 6th ...</td>\n",
       "      <td>Spice Elephant</td>\n",
       "      <td>Yes</td>\n",
       "      <td>No</td>\n",
       "      <td>4.1/5</td>\n",
       "      <td>787</td>\n",
       "      <td>080 41714161</td>\n",
       "      <td>Banashankari</td>\n",
       "      <td>Casual Dining</td>\n",
       "      <td>Momos, Lunch Buffet, Chocolate Nirvana, Thai G...</td>\n",
       "      <td>Chinese, North Indian, Thai</td>\n",
       "      <td>800</td>\n",
       "      <td>[('Rated 4.0', 'RATED\\n  Had been here for din...</td>\n",
       "      <td>[]</td>\n",
       "      <td>Buffet</td>\n",
       "      <td>Banashankari</td>\n",
       "    </tr>\n",
       "    <tr>\n",
       "      <th>2</th>\n",
       "      <td>https://www.zomato.com/SanchurroBangalore?cont...</td>\n",
       "      <td>1112, Next to KIMS Medical College, 17th Cross...</td>\n",
       "      <td>San Churro Cafe</td>\n",
       "      <td>Yes</td>\n",
       "      <td>No</td>\n",
       "      <td>3.8/5</td>\n",
       "      <td>918</td>\n",
       "      <td>+91 9663487993</td>\n",
       "      <td>Banashankari</td>\n",
       "      <td>Cafe, Casual Dining</td>\n",
       "      <td>Churros, Cannelloni, Minestrone Soup, Hot Choc...</td>\n",
       "      <td>Cafe, Mexican, Italian</td>\n",
       "      <td>800</td>\n",
       "      <td>[('Rated 3.0', \"RATED\\n  Ambience is not that ...</td>\n",
       "      <td>[]</td>\n",
       "      <td>Buffet</td>\n",
       "      <td>Banashankari</td>\n",
       "    </tr>\n",
       "    <tr>\n",
       "      <th>3</th>\n",
       "      <td>https://www.zomato.com/bangalore/addhuri-udupi...</td>\n",
       "      <td>1st Floor, Annakuteera, 3rd Stage, Banashankar...</td>\n",
       "      <td>Addhuri Udupi Bhojana</td>\n",
       "      <td>No</td>\n",
       "      <td>No</td>\n",
       "      <td>3.7/5</td>\n",
       "      <td>88</td>\n",
       "      <td>+91 9620009302</td>\n",
       "      <td>Banashankari</td>\n",
       "      <td>Quick Bites</td>\n",
       "      <td>Masala Dosa</td>\n",
       "      <td>South Indian, North Indian</td>\n",
       "      <td>300</td>\n",
       "      <td>[('Rated 4.0', \"RATED\\n  Great food and proper...</td>\n",
       "      <td>[]</td>\n",
       "      <td>Buffet</td>\n",
       "      <td>Banashankari</td>\n",
       "    </tr>\n",
       "    <tr>\n",
       "      <th>4</th>\n",
       "      <td>https://www.zomato.com/bangalore/grand-village...</td>\n",
       "      <td>10, 3rd Floor, Lakshmi Associates, Gandhi Baza...</td>\n",
       "      <td>Grand Village</td>\n",
       "      <td>No</td>\n",
       "      <td>No</td>\n",
       "      <td>3.8/5</td>\n",
       "      <td>166</td>\n",
       "      <td>+91 8026612447\\r\\n+91 9901210005</td>\n",
       "      <td>Basavanagudi</td>\n",
       "      <td>Casual Dining</td>\n",
       "      <td>Panipuri, Gol Gappe</td>\n",
       "      <td>North Indian, Rajasthani</td>\n",
       "      <td>600</td>\n",
       "      <td>[('Rated 4.0', 'RATED\\n  Very good restaurant ...</td>\n",
       "      <td>[]</td>\n",
       "      <td>Buffet</td>\n",
       "      <td>Banashankari</td>\n",
       "    </tr>\n",
       "  </tbody>\n",
       "</table>\n",
       "</div>"
      ],
      "text/plain": [
       "                                                 url  \\\n",
       "0  https://www.zomato.com/bangalore/jalsa-banasha...   \n",
       "1  https://www.zomato.com/bangalore/spice-elephan...   \n",
       "2  https://www.zomato.com/SanchurroBangalore?cont...   \n",
       "3  https://www.zomato.com/bangalore/addhuri-udupi...   \n",
       "4  https://www.zomato.com/bangalore/grand-village...   \n",
       "\n",
       "                                             address                   name  \\\n",
       "0  942, 21st Main Road, 2nd Stage, Banashankari, ...                  Jalsa   \n",
       "1  2nd Floor, 80 Feet Road, Near Big Bazaar, 6th ...         Spice Elephant   \n",
       "2  1112, Next to KIMS Medical College, 17th Cross...        San Churro Cafe   \n",
       "3  1st Floor, Annakuteera, 3rd Stage, Banashankar...  Addhuri Udupi Bhojana   \n",
       "4  10, 3rd Floor, Lakshmi Associates, Gandhi Baza...          Grand Village   \n",
       "\n",
       "  online_order book_table   rate  votes                             phone  \\\n",
       "0          Yes        Yes  4.1/5    775    080 42297555\\r\\n+91 9743772233   \n",
       "1          Yes         No  4.1/5    787                      080 41714161   \n",
       "2          Yes         No  3.8/5    918                    +91 9663487993   \n",
       "3           No         No  3.7/5     88                    +91 9620009302   \n",
       "4           No         No  3.8/5    166  +91 8026612447\\r\\n+91 9901210005   \n",
       "\n",
       "       location            rest_type  \\\n",
       "0  Banashankari        Casual Dining   \n",
       "1  Banashankari        Casual Dining   \n",
       "2  Banashankari  Cafe, Casual Dining   \n",
       "3  Banashankari          Quick Bites   \n",
       "4  Basavanagudi        Casual Dining   \n",
       "\n",
       "                                          dish_liked  \\\n",
       "0  Pasta, Lunch Buffet, Masala Papad, Paneer Laja...   \n",
       "1  Momos, Lunch Buffet, Chocolate Nirvana, Thai G...   \n",
       "2  Churros, Cannelloni, Minestrone Soup, Hot Choc...   \n",
       "3                                        Masala Dosa   \n",
       "4                                Panipuri, Gol Gappe   \n",
       "\n",
       "                         cuisines approx_cost(for two people)  \\\n",
       "0  North Indian, Mughlai, Chinese                         800   \n",
       "1     Chinese, North Indian, Thai                         800   \n",
       "2          Cafe, Mexican, Italian                         800   \n",
       "3      South Indian, North Indian                         300   \n",
       "4        North Indian, Rajasthani                         600   \n",
       "\n",
       "                                        reviews_list menu_item  \\\n",
       "0  [('Rated 4.0', 'RATED\\n  A beautiful place to ...        []   \n",
       "1  [('Rated 4.0', 'RATED\\n  Had been here for din...        []   \n",
       "2  [('Rated 3.0', \"RATED\\n  Ambience is not that ...        []   \n",
       "3  [('Rated 4.0', \"RATED\\n  Great food and proper...        []   \n",
       "4  [('Rated 4.0', 'RATED\\n  Very good restaurant ...        []   \n",
       "\n",
       "  listed_in(type) listed_in(city)  \n",
       "0          Buffet    Banashankari  \n",
       "1          Buffet    Banashankari  \n",
       "2          Buffet    Banashankari  \n",
       "3          Buffet    Banashankari  \n",
       "4          Buffet    Banashankari  "
      ]
     },
     "execution_count": 1,
     "metadata": {},
     "output_type": "execute_result"
    }
   ],
   "source": [
    "import pandas as pd\n",
    "import numpy as np\n",
    "import matplotlib.pyplot as plt\n",
    "import seaborn as sns\n",
    "\n",
    "zomato=pd.read_csv('Desktop/Kaggle/Zomato/zomato.csv',error_bad_lines = False)\n",
    "zomato.head()"
   ]
  },
  {
   "cell_type": "code",
   "execution_count": 2,
   "metadata": {},
   "outputs": [
    {
     "data": {
      "text/plain": [
       "(51717, 17)"
      ]
     },
     "execution_count": 2,
     "metadata": {},
     "output_type": "execute_result"
    }
   ],
   "source": [
    "zomato.shape"
   ]
  },
  {
   "cell_type": "code",
   "execution_count": 3,
   "metadata": {},
   "outputs": [
    {
     "data": {
      "text/plain": [
       "Index(['url', 'address', 'name', 'online_order', 'book_table', 'rate', 'votes',\n",
       "       'phone', 'location', 'rest_type', 'dish_liked', 'cuisines',\n",
       "       'approx_cost(for two people)', 'reviews_list', 'menu_item',\n",
       "       'listed_in(type)', 'listed_in(city)'],\n",
       "      dtype='object')"
      ]
     },
     "execution_count": 3,
     "metadata": {},
     "output_type": "execute_result"
    }
   ],
   "source": [
    "zomato.columns"
   ]
  },
  {
   "cell_type": "code",
   "execution_count": 4,
   "metadata": {},
   "outputs": [
    {
     "name": "stdout",
     "output_type": "stream",
     "text": [
      "Original Dataset :  Index(['url', 'address', 'name', 'online_order', 'book_table', 'rate', 'votes',\n",
      "       'phone', 'location', 'rest_type', 'dish_liked', 'cuisines',\n",
      "       'approx_cost(for two people)', 'reviews_list', 'menu_item',\n",
      "       'listed_in(type)', 'listed_in(city)'],\n",
      "      dtype='object')\n"
     ]
    },
    {
     "data": {
      "text/html": [
       "<div>\n",
       "<style scoped>\n",
       "    .dataframe tbody tr th:only-of-type {\n",
       "        vertical-align: middle;\n",
       "    }\n",
       "\n",
       "    .dataframe tbody tr th {\n",
       "        vertical-align: top;\n",
       "    }\n",
       "\n",
       "    .dataframe thead th {\n",
       "        text-align: right;\n",
       "    }\n",
       "</style>\n",
       "<table border=\"1\" class=\"dataframe\">\n",
       "  <thead>\n",
       "    <tr style=\"text-align: right;\">\n",
       "      <th></th>\n",
       "      <th>url</th>\n",
       "      <th>address</th>\n",
       "      <th>name</th>\n",
       "      <th>online_order</th>\n",
       "      <th>book_table</th>\n",
       "      <th>rate</th>\n",
       "      <th>votes</th>\n",
       "      <th>phone</th>\n",
       "      <th>location</th>\n",
       "      <th>rest_type</th>\n",
       "      <th>dish_liked</th>\n",
       "      <th>cuisines</th>\n",
       "      <th>approx_cost(for two people)</th>\n",
       "      <th>reviews_list</th>\n",
       "      <th>menu_item</th>\n",
       "      <th>listed_in(type)</th>\n",
       "      <th>listed_in(city)</th>\n",
       "    </tr>\n",
       "  </thead>\n",
       "  <tbody>\n",
       "    <tr>\n",
       "      <th>0</th>\n",
       "      <td>https://www.zomato.com/bangalore/jalsa-banasha...</td>\n",
       "      <td>942, 21st Main Road, 2nd Stage, Banashankari, ...</td>\n",
       "      <td>Jalsa</td>\n",
       "      <td>Yes</td>\n",
       "      <td>Yes</td>\n",
       "      <td>4.1/5</td>\n",
       "      <td>775</td>\n",
       "      <td>080 42297555\\r\\n+91 9743772233</td>\n",
       "      <td>Banashankari</td>\n",
       "      <td>Casual Dining</td>\n",
       "      <td>Pasta, Lunch Buffet, Masala Papad, Paneer Laja...</td>\n",
       "      <td>North Indian, Mughlai, Chinese</td>\n",
       "      <td>800</td>\n",
       "      <td>[('Rated 4.0', 'RATED\\n  A beautiful place to ...</td>\n",
       "      <td>[]</td>\n",
       "      <td>Buffet</td>\n",
       "      <td>Banashankari</td>\n",
       "    </tr>\n",
       "    <tr>\n",
       "      <th>1</th>\n",
       "      <td>https://www.zomato.com/bangalore/spice-elephan...</td>\n",
       "      <td>2nd Floor, 80 Feet Road, Near Big Bazaar, 6th ...</td>\n",
       "      <td>Spice Elephant</td>\n",
       "      <td>Yes</td>\n",
       "      <td>No</td>\n",
       "      <td>4.1/5</td>\n",
       "      <td>787</td>\n",
       "      <td>080 41714161</td>\n",
       "      <td>Banashankari</td>\n",
       "      <td>Casual Dining</td>\n",
       "      <td>Momos, Lunch Buffet, Chocolate Nirvana, Thai G...</td>\n",
       "      <td>Chinese, North Indian, Thai</td>\n",
       "      <td>800</td>\n",
       "      <td>[('Rated 4.0', 'RATED\\n  Had been here for din...</td>\n",
       "      <td>[]</td>\n",
       "      <td>Buffet</td>\n",
       "      <td>Banashankari</td>\n",
       "    </tr>\n",
       "    <tr>\n",
       "      <th>2</th>\n",
       "      <td>https://www.zomato.com/SanchurroBangalore?cont...</td>\n",
       "      <td>1112, Next to KIMS Medical College, 17th Cross...</td>\n",
       "      <td>San Churro Cafe</td>\n",
       "      <td>Yes</td>\n",
       "      <td>No</td>\n",
       "      <td>3.8/5</td>\n",
       "      <td>918</td>\n",
       "      <td>+91 9663487993</td>\n",
       "      <td>Banashankari</td>\n",
       "      <td>Cafe, Casual Dining</td>\n",
       "      <td>Churros, Cannelloni, Minestrone Soup, Hot Choc...</td>\n",
       "      <td>Cafe, Mexican, Italian</td>\n",
       "      <td>800</td>\n",
       "      <td>[('Rated 3.0', \"RATED\\n  Ambience is not that ...</td>\n",
       "      <td>[]</td>\n",
       "      <td>Buffet</td>\n",
       "      <td>Banashankari</td>\n",
       "    </tr>\n",
       "    <tr>\n",
       "      <th>3</th>\n",
       "      <td>https://www.zomato.com/bangalore/addhuri-udupi...</td>\n",
       "      <td>1st Floor, Annakuteera, 3rd Stage, Banashankar...</td>\n",
       "      <td>Addhuri Udupi Bhojana</td>\n",
       "      <td>No</td>\n",
       "      <td>No</td>\n",
       "      <td>3.7/5</td>\n",
       "      <td>88</td>\n",
       "      <td>+91 9620009302</td>\n",
       "      <td>Banashankari</td>\n",
       "      <td>Quick Bites</td>\n",
       "      <td>Masala Dosa</td>\n",
       "      <td>South Indian, North Indian</td>\n",
       "      <td>300</td>\n",
       "      <td>[('Rated 4.0', \"RATED\\n  Great food and proper...</td>\n",
       "      <td>[]</td>\n",
       "      <td>Buffet</td>\n",
       "      <td>Banashankari</td>\n",
       "    </tr>\n",
       "  </tbody>\n",
       "</table>\n",
       "</div>"
      ],
      "text/plain": [
       "                                                 url  \\\n",
       "0  https://www.zomato.com/bangalore/jalsa-banasha...   \n",
       "1  https://www.zomato.com/bangalore/spice-elephan...   \n",
       "2  https://www.zomato.com/SanchurroBangalore?cont...   \n",
       "3  https://www.zomato.com/bangalore/addhuri-udupi...   \n",
       "\n",
       "                                             address                   name  \\\n",
       "0  942, 21st Main Road, 2nd Stage, Banashankari, ...                  Jalsa   \n",
       "1  2nd Floor, 80 Feet Road, Near Big Bazaar, 6th ...         Spice Elephant   \n",
       "2  1112, Next to KIMS Medical College, 17th Cross...        San Churro Cafe   \n",
       "3  1st Floor, Annakuteera, 3rd Stage, Banashankar...  Addhuri Udupi Bhojana   \n",
       "\n",
       "  online_order book_table   rate  votes                           phone  \\\n",
       "0          Yes        Yes  4.1/5    775  080 42297555\\r\\n+91 9743772233   \n",
       "1          Yes         No  4.1/5    787                    080 41714161   \n",
       "2          Yes         No  3.8/5    918                  +91 9663487993   \n",
       "3           No         No  3.7/5     88                  +91 9620009302   \n",
       "\n",
       "       location            rest_type  \\\n",
       "0  Banashankari        Casual Dining   \n",
       "1  Banashankari        Casual Dining   \n",
       "2  Banashankari  Cafe, Casual Dining   \n",
       "3  Banashankari          Quick Bites   \n",
       "\n",
       "                                          dish_liked  \\\n",
       "0  Pasta, Lunch Buffet, Masala Papad, Paneer Laja...   \n",
       "1  Momos, Lunch Buffet, Chocolate Nirvana, Thai G...   \n",
       "2  Churros, Cannelloni, Minestrone Soup, Hot Choc...   \n",
       "3                                        Masala Dosa   \n",
       "\n",
       "                         cuisines approx_cost(for two people)  \\\n",
       "0  North Indian, Mughlai, Chinese                         800   \n",
       "1     Chinese, North Indian, Thai                         800   \n",
       "2          Cafe, Mexican, Italian                         800   \n",
       "3      South Indian, North Indian                         300   \n",
       "\n",
       "                                        reviews_list menu_item  \\\n",
       "0  [('Rated 4.0', 'RATED\\n  A beautiful place to ...        []   \n",
       "1  [('Rated 4.0', 'RATED\\n  Had been here for din...        []   \n",
       "2  [('Rated 3.0', \"RATED\\n  Ambience is not that ...        []   \n",
       "3  [('Rated 4.0', \"RATED\\n  Great food and proper...        []   \n",
       "\n",
       "  listed_in(type) listed_in(city)  \n",
       "0          Buffet    Banashankari  \n",
       "1          Buffet    Banashankari  \n",
       "2          Buffet    Banashankari  \n",
       "3          Buffet    Banashankari  "
      ]
     },
     "execution_count": 4,
     "metadata": {},
     "output_type": "execute_result"
    }
   ],
   "source": [
    "zomato=pd.DataFrame(zomato)\n",
    "zomato.columns=[i.lower() for i in zomato.columns]\n",
    "print('Original Dataset : ', zomato.columns)\n",
    "zomato.head(4)\n"
   ]
  },
  {
   "cell_type": "code",
   "execution_count": 5,
   "metadata": {
    "scrolled": true
   },
   "outputs": [],
   "source": [
    "zomato.drop([\"url\",\"phone\",\"address\",\"reviews_list\",\"menu_item\",\"location\"],axis=1,inplace = True)"
   ]
  },
  {
   "cell_type": "code",
   "execution_count": 6,
   "metadata": {},
   "outputs": [
    {
     "data": {
      "text/plain": [
       "(51717, 11)"
      ]
     },
     "execution_count": 6,
     "metadata": {},
     "output_type": "execute_result"
    }
   ],
   "source": [
    "zomato.shape"
   ]
  },
  {
   "cell_type": "code",
   "execution_count": 7,
   "metadata": {},
   "outputs": [
    {
     "data": {
      "text/html": [
       "<div>\n",
       "<style scoped>\n",
       "    .dataframe tbody tr th:only-of-type {\n",
       "        vertical-align: middle;\n",
       "    }\n",
       "\n",
       "    .dataframe tbody tr th {\n",
       "        vertical-align: top;\n",
       "    }\n",
       "\n",
       "    .dataframe thead th {\n",
       "        text-align: right;\n",
       "    }\n",
       "</style>\n",
       "<table border=\"1\" class=\"dataframe\">\n",
       "  <thead>\n",
       "    <tr style=\"text-align: right;\">\n",
       "      <th></th>\n",
       "      <th>name</th>\n",
       "      <th>online_order</th>\n",
       "      <th>book_table</th>\n",
       "      <th>rate</th>\n",
       "      <th>votes</th>\n",
       "      <th>rest_type</th>\n",
       "      <th>dish_liked</th>\n",
       "      <th>cuisines</th>\n",
       "      <th>approx_cost(for two people)</th>\n",
       "      <th>listed_in(type)</th>\n",
       "      <th>listed_in(city)</th>\n",
       "    </tr>\n",
       "  </thead>\n",
       "  <tbody>\n",
       "    <tr>\n",
       "      <th>0</th>\n",
       "      <td>Jalsa</td>\n",
       "      <td>Yes</td>\n",
       "      <td>Yes</td>\n",
       "      <td>4.1/5</td>\n",
       "      <td>775</td>\n",
       "      <td>Casual Dining</td>\n",
       "      <td>Pasta, Lunch Buffet, Masala Papad, Paneer Laja...</td>\n",
       "      <td>North Indian, Mughlai, Chinese</td>\n",
       "      <td>800</td>\n",
       "      <td>Buffet</td>\n",
       "      <td>Banashankari</td>\n",
       "    </tr>\n",
       "    <tr>\n",
       "      <th>1</th>\n",
       "      <td>Spice Elephant</td>\n",
       "      <td>Yes</td>\n",
       "      <td>No</td>\n",
       "      <td>4.1/5</td>\n",
       "      <td>787</td>\n",
       "      <td>Casual Dining</td>\n",
       "      <td>Momos, Lunch Buffet, Chocolate Nirvana, Thai G...</td>\n",
       "      <td>Chinese, North Indian, Thai</td>\n",
       "      <td>800</td>\n",
       "      <td>Buffet</td>\n",
       "      <td>Banashankari</td>\n",
       "    </tr>\n",
       "    <tr>\n",
       "      <th>2</th>\n",
       "      <td>San Churro Cafe</td>\n",
       "      <td>Yes</td>\n",
       "      <td>No</td>\n",
       "      <td>3.8/5</td>\n",
       "      <td>918</td>\n",
       "      <td>Cafe, Casual Dining</td>\n",
       "      <td>Churros, Cannelloni, Minestrone Soup, Hot Choc...</td>\n",
       "      <td>Cafe, Mexican, Italian</td>\n",
       "      <td>800</td>\n",
       "      <td>Buffet</td>\n",
       "      <td>Banashankari</td>\n",
       "    </tr>\n",
       "    <tr>\n",
       "      <th>3</th>\n",
       "      <td>Addhuri Udupi Bhojana</td>\n",
       "      <td>No</td>\n",
       "      <td>No</td>\n",
       "      <td>3.7/5</td>\n",
       "      <td>88</td>\n",
       "      <td>Quick Bites</td>\n",
       "      <td>Masala Dosa</td>\n",
       "      <td>South Indian, North Indian</td>\n",
       "      <td>300</td>\n",
       "      <td>Buffet</td>\n",
       "      <td>Banashankari</td>\n",
       "    </tr>\n",
       "  </tbody>\n",
       "</table>\n",
       "</div>"
      ],
      "text/plain": [
       "                    name online_order book_table   rate  votes  \\\n",
       "0                  Jalsa          Yes        Yes  4.1/5    775   \n",
       "1         Spice Elephant          Yes         No  4.1/5    787   \n",
       "2        San Churro Cafe          Yes         No  3.8/5    918   \n",
       "3  Addhuri Udupi Bhojana           No         No  3.7/5     88   \n",
       "\n",
       "             rest_type                                         dish_liked  \\\n",
       "0        Casual Dining  Pasta, Lunch Buffet, Masala Papad, Paneer Laja...   \n",
       "1        Casual Dining  Momos, Lunch Buffet, Chocolate Nirvana, Thai G...   \n",
       "2  Cafe, Casual Dining  Churros, Cannelloni, Minestrone Soup, Hot Choc...   \n",
       "3          Quick Bites                                        Masala Dosa   \n",
       "\n",
       "                         cuisines approx_cost(for two people) listed_in(type)  \\\n",
       "0  North Indian, Mughlai, Chinese                         800          Buffet   \n",
       "1     Chinese, North Indian, Thai                         800          Buffet   \n",
       "2          Cafe, Mexican, Italian                         800          Buffet   \n",
       "3      South Indian, North Indian                         300          Buffet   \n",
       "\n",
       "  listed_in(city)  \n",
       "0    Banashankari  \n",
       "1    Banashankari  \n",
       "2    Banashankari  \n",
       "3    Banashankari  "
      ]
     },
     "execution_count": 7,
     "metadata": {},
     "output_type": "execute_result"
    }
   ],
   "source": [
    "zomato.head(4)"
   ]
  },
  {
   "cell_type": "code",
   "execution_count": 8,
   "metadata": {},
   "outputs": [],
   "source": [
    "zomato=zomato.drop_duplicates()"
   ]
  },
  {
   "cell_type": "code",
   "execution_count": 9,
   "metadata": {},
   "outputs": [
    {
     "data": {
      "text/plain": [
       "(51593, 11)"
      ]
     },
     "execution_count": 9,
     "metadata": {},
     "output_type": "execute_result"
    }
   ],
   "source": [
    "zomato.shape"
   ]
  },
  {
   "cell_type": "code",
   "execution_count": 10,
   "metadata": {},
   "outputs": [
    {
     "data": {
      "text/plain": [
       "name                               0\n",
       "online_order                       0\n",
       "book_table                         0\n",
       "rate                            7740\n",
       "votes                              0\n",
       "rest_type                        227\n",
       "dish_liked                     27998\n",
       "cuisines                          45\n",
       "approx_cost(for two people)      344\n",
       "listed_in(type)                    0\n",
       "listed_in(city)                    0\n",
       "dtype: int64"
      ]
     },
     "execution_count": 10,
     "metadata": {},
     "output_type": "execute_result"
    }
   ],
   "source": [
    "zomato.isnull().sum()"
   ]
  },
  {
   "cell_type": "code",
   "execution_count": 11,
   "metadata": {},
   "outputs": [
    {
     "data": {
      "text/html": [
       "<div>\n",
       "<style scoped>\n",
       "    .dataframe tbody tr th:only-of-type {\n",
       "        vertical-align: middle;\n",
       "    }\n",
       "\n",
       "    .dataframe tbody tr th {\n",
       "        vertical-align: top;\n",
       "    }\n",
       "\n",
       "    .dataframe thead th {\n",
       "        text-align: right;\n",
       "    }\n",
       "</style>\n",
       "<table border=\"1\" class=\"dataframe\">\n",
       "  <thead>\n",
       "    <tr style=\"text-align: right;\">\n",
       "      <th></th>\n",
       "      <th>Missing Value Percent</th>\n",
       "    </tr>\n",
       "  </thead>\n",
       "  <tbody>\n",
       "    <tr>\n",
       "      <th>name</th>\n",
       "      <td>0.000000</td>\n",
       "    </tr>\n",
       "    <tr>\n",
       "      <th>online_order</th>\n",
       "      <td>0.000000</td>\n",
       "    </tr>\n",
       "    <tr>\n",
       "      <th>book_table</th>\n",
       "      <td>0.000000</td>\n",
       "    </tr>\n",
       "    <tr>\n",
       "      <th>rate</th>\n",
       "      <td>15.002035</td>\n",
       "    </tr>\n",
       "    <tr>\n",
       "      <th>votes</th>\n",
       "      <td>0.000000</td>\n",
       "    </tr>\n",
       "    <tr>\n",
       "      <th>rest_type</th>\n",
       "      <td>0.439982</td>\n",
       "    </tr>\n",
       "    <tr>\n",
       "      <th>dish_liked</th>\n",
       "      <td>54.267052</td>\n",
       "    </tr>\n",
       "    <tr>\n",
       "      <th>cuisines</th>\n",
       "      <td>0.087221</td>\n",
       "    </tr>\n",
       "    <tr>\n",
       "      <th>approx_cost(for two people)</th>\n",
       "      <td>0.666757</td>\n",
       "    </tr>\n",
       "    <tr>\n",
       "      <th>listed_in(type)</th>\n",
       "      <td>0.000000</td>\n",
       "    </tr>\n",
       "    <tr>\n",
       "      <th>listed_in(city)</th>\n",
       "      <td>0.000000</td>\n",
       "    </tr>\n",
       "  </tbody>\n",
       "</table>\n",
       "</div>"
      ],
      "text/plain": [
       "                             Missing Value Percent\n",
       "name                                      0.000000\n",
       "online_order                              0.000000\n",
       "book_table                                0.000000\n",
       "rate                                     15.002035\n",
       "votes                                     0.000000\n",
       "rest_type                                 0.439982\n",
       "dish_liked                               54.267052\n",
       "cuisines                                  0.087221\n",
       "approx_cost(for two people)               0.666757\n",
       "listed_in(type)                           0.000000\n",
       "listed_in(city)                           0.000000"
      ]
     },
     "execution_count": 11,
     "metadata": {},
     "output_type": "execute_result"
    }
   ],
   "source": [
    "null_value_percent=pd.DataFrame(zomato.isnull().sum()/len(zomato)*100)\n",
    "null_value_percent.rename(columns={0:\"Missing Value Percent\"},inplace=True)\n",
    "null_value_percent"
   ]
  },
  {
   "cell_type": "code",
   "execution_count": 12,
   "metadata": {},
   "outputs": [
    {
     "data": {
      "text/plain": [
       "(51593, 11)"
      ]
     },
     "execution_count": 12,
     "metadata": {},
     "output_type": "execute_result"
    }
   ],
   "source": [
    "zomato.shape"
   ]
  },
  {
   "cell_type": "code",
   "execution_count": 13,
   "metadata": {},
   "outputs": [],
   "source": [
    "zomato.dropna(how='any',inplace=True,axis=0)"
   ]
  },
  {
   "cell_type": "code",
   "execution_count": 14,
   "metadata": {},
   "outputs": [
    {
     "data": {
      "text/plain": [
       "(23364, 11)"
      ]
     },
     "execution_count": 14,
     "metadata": {},
     "output_type": "execute_result"
    }
   ],
   "source": [
    "zomato.shape"
   ]
  },
  {
   "cell_type": "code",
   "execution_count": 15,
   "metadata": {},
   "outputs": [
    {
     "data": {
      "text/plain": [
       "Index(['name', 'online_order', 'book_table', 'rate', 'votes', 'rest_type',\n",
       "       'dish_liked', 'cuisines', 'cost', 'service_type', 'city'],\n",
       "      dtype='object')"
      ]
     },
     "execution_count": 15,
     "metadata": {},
     "output_type": "execute_result"
    }
   ],
   "source": [
    "zomato.rename(columns= {'approx_cost(for two people)':\"cost\",\"listed_in(type)\":\"service_type\",\"listed_in(city)\":\"city\"},inplace=True)\n",
    "zomato.columns"
   ]
  },
  {
   "cell_type": "code",
   "execution_count": 16,
   "metadata": {},
   "outputs": [
    {
     "name": "stdout",
     "output_type": "stream",
     "text": [
      "<class 'pandas.core.frame.DataFrame'>\n",
      "Int64Index: 23364 entries, 0 to 51715\n",
      "Data columns (total 11 columns):\n",
      " #   Column        Non-Null Count  Dtype \n",
      "---  ------        --------------  ----- \n",
      " 0   name          23364 non-null  object\n",
      " 1   online_order  23364 non-null  object\n",
      " 2   book_table    23364 non-null  object\n",
      " 3   rate          23364 non-null  object\n",
      " 4   votes         23364 non-null  int64 \n",
      " 5   rest_type     23364 non-null  object\n",
      " 6   dish_liked    23364 non-null  object\n",
      " 7   cuisines      23364 non-null  object\n",
      " 8   cost          23364 non-null  object\n",
      " 9   service_type  23364 non-null  object\n",
      " 10  city          23364 non-null  object\n",
      "dtypes: int64(1), object(10)\n",
      "memory usage: 1.2+ MB\n"
     ]
    }
   ],
   "source": [
    "zomato.info()"
   ]
  },
  {
   "cell_type": "code",
   "execution_count": 17,
   "metadata": {},
   "outputs": [
    {
     "data": {
      "text/plain": [
       "name            0\n",
       "online_order    0\n",
       "book_table      0\n",
       "rate            0\n",
       "votes           0\n",
       "rest_type       0\n",
       "dish_liked      0\n",
       "cuisines        0\n",
       "cost            0\n",
       "service_type    0\n",
       "city            0\n",
       "dtype: int64"
      ]
     },
     "execution_count": 17,
     "metadata": {},
     "output_type": "execute_result"
    }
   ],
   "source": [
    "zomato.isnull().sum()"
   ]
  },
  {
   "cell_type": "code",
   "execution_count": 18,
   "metadata": {},
   "outputs": [
    {
     "data": {
      "text/plain": [
       "0     800\n",
       "1     800\n",
       "2     800\n",
       "3     300\n",
       "4     600\n",
       "5     600\n",
       "7     600\n",
       "8     700\n",
       "9     550\n",
       "10    500\n",
       "Name: cost, dtype: object"
      ]
     },
     "execution_count": 18,
     "metadata": {},
     "output_type": "execute_result"
    }
   ],
   "source": [
    "zomato['cost'].head(10)"
   ]
  },
  {
   "cell_type": "code",
   "execution_count": 19,
   "metadata": {},
   "outputs": [],
   "source": [
    "# let's convert type of cost feature in to int type\n",
    "zomato[\"cost\"] = zomato[\"cost\"].apply(lambda cost : cost.replace(\",\",\"\"))\n",
    "zomato[\"cost\"] = zomato[\"cost\"].astype(int)\n",
    "#zomato[\"cost\"].sample(10)"
   ]
  },
  {
   "cell_type": "code",
   "execution_count": 20,
   "metadata": {},
   "outputs": [
    {
     "data": {
      "text/plain": [
       "0     800\n",
       "1     800\n",
       "2     800\n",
       "3     300\n",
       "4     600\n",
       "5     600\n",
       "7     600\n",
       "8     700\n",
       "9     550\n",
       "10    500\n",
       "Name: cost, dtype: int32"
      ]
     },
     "execution_count": 20,
     "metadata": {},
     "output_type": "execute_result"
    }
   ],
   "source": [
    "zomato['cost'].head(10)"
   ]
  },
  {
   "cell_type": "code",
   "execution_count": 21,
   "metadata": {},
   "outputs": [
    {
     "name": "stdout",
     "output_type": "stream",
     "text": [
      "Dataset After droping records related to newly opened shop's :  (23218, 11)\n"
     ]
    }
   ],
   "source": [
    "# let's remove records related to newly opened shop's\n",
    "new_rating_index = zomato[zomato[\"rate\"]==\"NEW\"].index\n",
    "zomato.drop(new_rating_index,axis = 0,inplace = True)\n",
    "print(\"Dataset After droping records related to newly opened shop's : \",zomato.shape)\n",
    "\n",
    "# let's remove /5 from rating(rate) column\n",
    "zomato[\"rate\"] = zomato[\"rate\"].astype(str)\n",
    "zomato[\"rate\"] = zomato[\"rate\"].apply(lambda x : x[0:3])\n",
    "zomato[\"rate\"] = zomato[\"rate\"].astype(float)"
   ]
  },
  {
   "cell_type": "code",
   "execution_count": 22,
   "metadata": {},
   "outputs": [
    {
     "name": "stdout",
     "output_type": "stream",
     "text": [
      "Casual Dining         7320\n",
      "Quick Bites           5248\n",
      "Cafe                  2372\n",
      "Dessert Parlor        1081\n",
      "Casual Dining, Bar     980\n",
      "Delivery               704\n",
      "Bar                    358\n",
      "Takeaway, Delivery     341\n",
      "Bar, Casual Dining     332\n",
      "Pub                    323\n",
      "Name: rest_type, dtype: int64\n"
     ]
    },
    {
     "data": {
      "text/plain": [
       "Text(0, 0.5, 'count')"
      ]
     },
     "execution_count": 22,
     "metadata": {},
     "output_type": "execute_result"
    },
    {
     "data": {
      "image/png": "[encoded data removed]",
      "text/plain": [
       "<Figure size 432x288 with 1 Axes>"
      ]
     },
     "metadata": {
      "needs_background": "light"
     },
     "output_type": "display_data"
    }
   ],
   "source": [
    "#import seaborn as sns\n",
    "#plt.rcParams['figure.figsize']=(16,6)\n",
    "top_ten_restaurant_types=zomato.rest_type.value_counts().head(10)\n",
    "print(top_ten_restaurant_types)\n",
    "\n",
    "sns.barplot(top_ten_restaurant_types.index,top_ten_restaurant_types)\n",
    "plt.title(\"top 10 Resturant Types\", fontsize=20)\n",
    "plt.xlabel(\"Restaurant types\", fontsize=20)\n",
    "plt.ylabel(\"count\")"
   ]
  },
  {
   "cell_type": "code",
   "execution_count": 23,
   "metadata": {},
   "outputs": [
    {
     "data": {
      "text/plain": [
       "Text(0, 0.5, 'count')"
      ]
     },
     "execution_count": 23,
     "metadata": {},
     "output_type": "execute_result"
    },
    {
     "data": {
      "image/png": "[encoded data removed]",
      "text/plain": [
       "<Figure size 432x288 with 1 Axes>"
      ]
     },
     "metadata": {
      "needs_background": "light"
     },
     "output_type": "display_data"
    }
   ],
   "source": [
    "top_ten_liked_dishes=zomato.dish_liked.value_counts().head(10)\n",
    "top_ten_liked_dishes\n",
    "\n",
    "sns.barplot(top_ten_liked_dishes.index,top_ten_liked_dishes)\n",
    "plt.title('Top 10 Liked Dishes')\n",
    "plt.xlabel('Dishes',fontsize=20)\n",
    "plt.ylabel('count',fontsize=20)"
   ]
  },
  {
   "cell_type": "code",
   "execution_count": 24,
   "metadata": {},
   "outputs": [
    {
     "data": {
      "text/plain": [
       "Text(0, 0.5, 'Counts')"
      ]
     },
     "execution_count": 24,
     "metadata": {},
     "output_type": "execute_result"
    },
    {
     "data": {
      "image/png": "[encoded data removed]",
      "text/plain": [
       "<Figure size 432x288 with 1 Axes>"
      ]
     },
     "metadata": {
      "needs_background": "light"
     },
     "output_type": "display_data"
    }
   ],
   "source": [
    "food_service_type=zomato.service_type.value_counts()\n",
    "sns.barplot(food_service_type.index,food_service_type)\n",
    "plt.title('Top Liked Serice')\n",
    "plt.xlabel(\"Service Type\",fontsize=20)\n",
    "plt.ylabel(\"Counts\",fontsize=20)"
   ]
  },
  {
   "cell_type": "code",
   "execution_count": 25,
   "metadata": {},
   "outputs": [
    {
     "data": {
      "text/plain": [
       "Text(0, 0.5, 'Count')"
      ]
     },
     "execution_count": 25,
     "metadata": {},
     "output_type": "execute_result"
    },
    {
     "data": {
      "image/png": "[encoded data removed]",
      "text/plain": [
       "<Figure size 432x288 with 1 Axes>"
      ]
     },
     "metadata": {
      "needs_background": "light"
     },
     "output_type": "display_data"
    }
   ],
   "source": [
    "top_five_cooking_style=zomato.cuisines.value_counts().head(5)\n",
    "top_five_cooking_style\n",
    "sns.barplot(top_five_cooking_style.index,top_five_cooking_style)\n",
    "plt.title('Top Cuisines')\n",
    "plt.xlabel('Cuisine',fontsize=20)\n",
    "plt.ylabel('Count',fontsize=20)"
   ]
  },
  {
   "cell_type": "code",
   "execution_count": 26,
   "metadata": {},
   "outputs": [
    {
     "data": {
      "text/plain": [
       "0    Banashankari\n",
       "1    Banashankari\n",
       "2    Banashankari\n",
       "3    Banashankari\n",
       "4    Banashankari\n",
       "Name: city, dtype: object"
      ]
     },
     "execution_count": 26,
     "metadata": {},
     "output_type": "execute_result"
    }
   ],
   "source": [
    "zomato.city=zomato.city.str.split(\" \").str[0]\n",
    "zomato['city'].head()"
   ]
  },
  {
   "cell_type": "code",
   "execution_count": 27,
   "metadata": {},
   "outputs": [
    {
     "data": {
      "text/plain": [
       "Text(0, 0.5, 'Count')"
      ]
     },
     "execution_count": 27,
     "metadata": {},
     "output_type": "execute_result"
    },
    {
     "data": {
      "image/png": "[encoded data removed]",
      "text/plain": [
       "<Figure size 432x288 with 1 Axes>"
      ]
     },
     "metadata": {
      "needs_background": "light"
     },
     "output_type": "display_data"
    }
   ],
   "source": [
    "city_rest_count=zomato.city.value_counts().head()\n",
    "city_rest_count\n",
    "sns.barplot(city_rest_count.index,city_rest_count)\n",
    "plt.title('Top Cities')\n",
    "plt.xlabel('Cities',fontsize=20)\n",
    "plt.ylabel('Count',fontsize=20)"
   ]
  },
  {
   "cell_type": "code",
   "execution_count": 28,
   "metadata": {},
   "outputs": [
    {
     "name": "stdout",
     "output_type": "stream",
     "text": [
      "Highest Food Ordered Cost : 6000\n",
      "Lowest  Food Ordered Cost : 40\n"
     ]
    },
    {
     "data": {
      "image/png": "[encoded data removed]",
      "text/plain": [
       "<Figure size 432x288 with 1 Axes>"
      ]
     },
     "metadata": {
      "needs_background": "light"
     },
     "output_type": "display_data"
    }
   ],
   "source": [
    "sns.kdeplot(zomato['cost'],shade=True)\n",
    "plt.title('Cost Distribution')\n",
    "plt.xlabel(\"Cost value's\",fontsize=20)\n",
    "print(\"Highest Food Ordered Cost :\",zomato[\"cost\"].max())\n",
    "print(\"Lowest  Food Ordered Cost :\",zomato[\"cost\"].min())"
   ]
  },
  {
   "cell_type": "code",
   "execution_count": 29,
   "metadata": {},
   "outputs": [
    {
     "data": {
      "text/plain": [
       "Text(0.5, 1.0, \"Top 5 cities with highest rated Restaurant's \")"
      ]
     },
     "execution_count": 29,
     "metadata": {},
     "output_type": "execute_result"
    },
    {
     "data": {
      "image/png": "[encoded data removed]",
      "text/plain": [
       "<Figure size 432x288 with 1 Axes>"
      ]
     },
     "metadata": {
      "needs_background": "light"
     },
     "output_type": "display_data"
    }
   ],
   "source": [
    "avg_city_rest_rate = pd.pivot_table(zomato,index = [\"city\"],values = [\"rate\"])\n",
    "avg_city_rest_rate = avg_city_rest_rate.sort_values(by = 'rate',ascending = False).head(5)\n",
    "sns.barplot(avg_city_rest_rate.index,avg_city_rest_rate[\"rate\"])\n",
    "plt.title(\"Top 5 cities with highest rated Restaurant's \",fontsize = 20)"
   ]
  },
  {
   "cell_type": "code",
   "execution_count": 30,
   "metadata": {},
   "outputs": [
    {
     "data": {
      "text/html": [
       "<div>\n",
       "<style scoped>\n",
       "    .dataframe tbody tr th:only-of-type {\n",
       "        vertical-align: middle;\n",
       "    }\n",
       "\n",
       "    .dataframe tbody tr th {\n",
       "        vertical-align: top;\n",
       "    }\n",
       "\n",
       "    .dataframe thead th {\n",
       "        text-align: right;\n",
       "    }\n",
       "</style>\n",
       "<table border=\"1\" class=\"dataframe\">\n",
       "  <thead>\n",
       "    <tr style=\"text-align: right;\">\n",
       "      <th></th>\n",
       "      <th>dish_liked</th>\n",
       "      <th>cost</th>\n",
       "    </tr>\n",
       "  </thead>\n",
       "  <tbody>\n",
       "    <tr>\n",
       "      <th>45618</th>\n",
       "      <td>Wine, Asparagus Soup, Creme Brulee, Pasta, Rav...</td>\n",
       "      <td>6000</td>\n",
       "    </tr>\n",
       "    <tr>\n",
       "      <th>19139</th>\n",
       "      <td>Wine, Asparagus Soup, Creme Brulee, Pasta, Rav...</td>\n",
       "      <td>6000</td>\n",
       "    </tr>\n",
       "    <tr>\n",
       "      <th>40266</th>\n",
       "      <td>Dal Bukhara, Chocolate Cake, Butter Chicken, N...</td>\n",
       "      <td>5000</td>\n",
       "    </tr>\n",
       "    <tr>\n",
       "      <th>41591</th>\n",
       "      <td>Cocktails, Jumbo Prawns, Charcuterie Platter, ...</td>\n",
       "      <td>4500</td>\n",
       "    </tr>\n",
       "    <tr>\n",
       "      <th>37715</th>\n",
       "      <td>Pasta, Veg Sushi, Biryani, Lunch Buffet, Waffl...</td>\n",
       "      <td>4100</td>\n",
       "    </tr>\n",
       "  </tbody>\n",
       "</table>\n",
       "</div>"
      ],
      "text/plain": [
       "                                              dish_liked  cost\n",
       "45618  Wine, Asparagus Soup, Creme Brulee, Pasta, Rav...  6000\n",
       "19139  Wine, Asparagus Soup, Creme Brulee, Pasta, Rav...  6000\n",
       "40266  Dal Bukhara, Chocolate Cake, Butter Chicken, N...  5000\n",
       "41591  Cocktails, Jumbo Prawns, Charcuterie Platter, ...  4500\n",
       "37715  Pasta, Veg Sushi, Biryani, Lunch Buffet, Waffl...  4100"
      ]
     },
     "execution_count": 30,
     "metadata": {},
     "output_type": "execute_result"
    }
   ],
   "source": [
    "food_with_highest_price = zomato[[\"dish_liked\",\"cost\"]]\n",
    "food_with_highest_price = food_with_highest_price.drop_duplicates().sort_values(by = \"cost\",ascending = False ).head(5)\n",
    "food_with_highest_price"
   ]
  },
  {
   "cell_type": "code",
   "execution_count": 31,
   "metadata": {},
   "outputs": [
    {
     "data": {
      "image/png": "[encoded data removed]",
      "text/plain": [
       "<Figure size 432x288 with 1 Axes>"
      ]
     },
     "metadata": {},
     "output_type": "display_data"
    }
   ],
   "source": [
    "order_type = zomato.online_order.value_counts()\n",
    "plt.pie(order_type,labels = order_type.index,autopct='%1.1f%%', shadow=True)\n",
    "plt.show()"
   ]
  },
  {
   "cell_type": "code",
   "execution_count": 32,
   "metadata": {},
   "outputs": [
    {
     "data": {
      "text/plain": [
       "<seaborn.axisgrid.JointGrid at 0x12917250>"
      ]
     },
     "execution_count": 32,
     "metadata": {},
     "output_type": "execute_result"
    },
    {
     "data": {
      "image/png": "[encoded data removed]",
      "text/plain": [
       "<Figure size 432x432 with 3 Axes>"
      ]
     },
     "metadata": {
      "needs_background": "light"
     },
     "output_type": "display_data"
    }
   ],
   "source": [
    "sns.jointplot(zomato[\"votes\"],zomato[\"cost\"])"
   ]
  },
  {
   "cell_type": "code",
   "execution_count": 33,
   "metadata": {},
   "outputs": [],
   "source": [
    "high_rated_rest = zomato[zomato[\"rate\"]>4.5]"
   ]
  },
  {
   "cell_type": "code",
   "execution_count": 34,
   "metadata": {},
   "outputs": [],
   "source": [
    "high_rated_cheapprice_rest = high_rated_rest[high_rated_rest[\"dish_liked\"]==\"Paneer Peri Peri, Pancakes, Fajitas, Sweet Crepe, Peri Peri Chicken, Chicken Breast, Nutella Crepe\"]"
   ]
  },
  {
   "cell_type": "code",
   "execution_count": 35,
   "metadata": {},
   "outputs": [
    {
     "data": {
      "text/html": [
       "<div>\n",
       "<style scoped>\n",
       "    .dataframe tbody tr th:only-of-type {\n",
       "        vertical-align: middle;\n",
       "    }\n",
       "\n",
       "    .dataframe tbody tr th {\n",
       "        vertical-align: top;\n",
       "    }\n",
       "\n",
       "    .dataframe thead th {\n",
       "        text-align: right;\n",
       "    }\n",
       "</style>\n",
       "<table border=\"1\" class=\"dataframe\">\n",
       "  <thead>\n",
       "    <tr style=\"text-align: right;\">\n",
       "      <th></th>\n",
       "      <th>name</th>\n",
       "      <th>online_order</th>\n",
       "      <th>book_table</th>\n",
       "      <th>rate</th>\n",
       "      <th>votes</th>\n",
       "      <th>rest_type</th>\n",
       "      <th>dish_liked</th>\n",
       "      <th>cuisines</th>\n",
       "      <th>cost</th>\n",
       "      <th>service_type</th>\n",
       "      <th>city</th>\n",
       "    </tr>\n",
       "  </thead>\n",
       "  <tbody>\n",
       "    <tr>\n",
       "      <th>8341</th>\n",
       "      <td>Lot Like Crepes</td>\n",
       "      <td>Yes</td>\n",
       "      <td>No</td>\n",
       "      <td>4.7</td>\n",
       "      <td>1022</td>\n",
       "      <td>Cafe, Dessert Parlor</td>\n",
       "      <td>Paneer Peri Peri, Pancakes, Fajitas, Sweet Cre...</td>\n",
       "      <td>Cafe, Desserts, Continental</td>\n",
       "      <td>550</td>\n",
       "      <td>Cafes</td>\n",
       "      <td>BTM</td>\n",
       "    </tr>\n",
       "    <tr>\n",
       "      <th>9158</th>\n",
       "      <td>Lot Like Crepes</td>\n",
       "      <td>Yes</td>\n",
       "      <td>No</td>\n",
       "      <td>4.7</td>\n",
       "      <td>1022</td>\n",
       "      <td>Cafe, Dessert Parlor</td>\n",
       "      <td>Paneer Peri Peri, Pancakes, Fajitas, Sweet Cre...</td>\n",
       "      <td>Cafe, Desserts, Continental</td>\n",
       "      <td>550</td>\n",
       "      <td>Delivery</td>\n",
       "      <td>BTM</td>\n",
       "    </tr>\n",
       "    <tr>\n",
       "      <th>10269</th>\n",
       "      <td>Lot Like Crepes</td>\n",
       "      <td>Yes</td>\n",
       "      <td>No</td>\n",
       "      <td>4.6</td>\n",
       "      <td>1028</td>\n",
       "      <td>Dessert Parlor</td>\n",
       "      <td>Paneer Peri Peri, Pancakes, Fajitas, Sweet Cre...</td>\n",
       "      <td>Desserts, Continental</td>\n",
       "      <td>550</td>\n",
       "      <td>Desserts</td>\n",
       "      <td>BTM</td>\n",
       "    </tr>\n",
       "    <tr>\n",
       "      <th>10938</th>\n",
       "      <td>Lot Like Crepes</td>\n",
       "      <td>Yes</td>\n",
       "      <td>No</td>\n",
       "      <td>4.7</td>\n",
       "      <td>1022</td>\n",
       "      <td>Cafe, Dessert Parlor</td>\n",
       "      <td>Paneer Peri Peri, Pancakes, Fajitas, Sweet Cre...</td>\n",
       "      <td>Cafe, Desserts, Continental</td>\n",
       "      <td>550</td>\n",
       "      <td>Dine-out</td>\n",
       "      <td>BTM</td>\n",
       "    </tr>\n",
       "    <tr>\n",
       "      <th>20230</th>\n",
       "      <td>Lot Like Crepes</td>\n",
       "      <td>Yes</td>\n",
       "      <td>No</td>\n",
       "      <td>4.6</td>\n",
       "      <td>1024</td>\n",
       "      <td>Cafe, Dessert Parlor</td>\n",
       "      <td>Paneer Peri Peri, Pancakes, Fajitas, Sweet Cre...</td>\n",
       "      <td>Cafe, Desserts, Continental</td>\n",
       "      <td>550</td>\n",
       "      <td>Delivery</td>\n",
       "      <td>Jayanagar</td>\n",
       "    </tr>\n",
       "    <tr>\n",
       "      <th>26568</th>\n",
       "      <td>Lot Like Crepes</td>\n",
       "      <td>Yes</td>\n",
       "      <td>No</td>\n",
       "      <td>4.6</td>\n",
       "      <td>1026</td>\n",
       "      <td>Cafe, Dessert Parlor</td>\n",
       "      <td>Paneer Peri Peri, Pancakes, Fajitas, Sweet Cre...</td>\n",
       "      <td>Cafe, Desserts, Continental</td>\n",
       "      <td>550</td>\n",
       "      <td>Cafes</td>\n",
       "      <td>Koramangala</td>\n",
       "    </tr>\n",
       "    <tr>\n",
       "      <th>26878</th>\n",
       "      <td>Lot Like Crepes</td>\n",
       "      <td>Yes</td>\n",
       "      <td>No</td>\n",
       "      <td>4.6</td>\n",
       "      <td>1026</td>\n",
       "      <td>Cafe, Dessert Parlor</td>\n",
       "      <td>Paneer Peri Peri, Pancakes, Fajitas, Sweet Cre...</td>\n",
       "      <td>Cafe, Desserts, Continental</td>\n",
       "      <td>550</td>\n",
       "      <td>Delivery</td>\n",
       "      <td>Koramangala</td>\n",
       "    </tr>\n",
       "    <tr>\n",
       "      <th>28160</th>\n",
       "      <td>Lot Like Crepes</td>\n",
       "      <td>Yes</td>\n",
       "      <td>No</td>\n",
       "      <td>4.6</td>\n",
       "      <td>1026</td>\n",
       "      <td>Cafe, Dessert Parlor</td>\n",
       "      <td>Paneer Peri Peri, Pancakes, Fajitas, Sweet Cre...</td>\n",
       "      <td>Cafe, Desserts, Continental</td>\n",
       "      <td>550</td>\n",
       "      <td>Desserts</td>\n",
       "      <td>Koramangala</td>\n",
       "    </tr>\n",
       "    <tr>\n",
       "      <th>28463</th>\n",
       "      <td>Lot Like Crepes</td>\n",
       "      <td>Yes</td>\n",
       "      <td>No</td>\n",
       "      <td>4.6</td>\n",
       "      <td>1027</td>\n",
       "      <td>Cafe, Dessert Parlor</td>\n",
       "      <td>Paneer Peri Peri, Pancakes, Fajitas, Sweet Cre...</td>\n",
       "      <td>Cafe, Desserts, Continental</td>\n",
       "      <td>550</td>\n",
       "      <td>Dine-out</td>\n",
       "      <td>Koramangala</td>\n",
       "    </tr>\n",
       "    <tr>\n",
       "      <th>29652</th>\n",
       "      <td>Lot Like Crepes</td>\n",
       "      <td>Yes</td>\n",
       "      <td>No</td>\n",
       "      <td>4.6</td>\n",
       "      <td>1026</td>\n",
       "      <td>Cafe, Dessert Parlor</td>\n",
       "      <td>Paneer Peri Peri, Pancakes, Fajitas, Sweet Cre...</td>\n",
       "      <td>Cafe, Desserts, Continental</td>\n",
       "      <td>550</td>\n",
       "      <td>Delivery</td>\n",
       "      <td>Koramangala</td>\n",
       "    </tr>\n",
       "    <tr>\n",
       "      <th>30926</th>\n",
       "      <td>Lot Like Crepes</td>\n",
       "      <td>Yes</td>\n",
       "      <td>No</td>\n",
       "      <td>4.6</td>\n",
       "      <td>1026</td>\n",
       "      <td>Cafe, Dessert Parlor</td>\n",
       "      <td>Paneer Peri Peri, Pancakes, Fajitas, Sweet Cre...</td>\n",
       "      <td>Cafe, Desserts, Continental</td>\n",
       "      <td>550</td>\n",
       "      <td>Desserts</td>\n",
       "      <td>Koramangala</td>\n",
       "    </tr>\n",
       "    <tr>\n",
       "      <th>31280</th>\n",
       "      <td>Lot Like Crepes</td>\n",
       "      <td>Yes</td>\n",
       "      <td>No</td>\n",
       "      <td>4.6</td>\n",
       "      <td>1026</td>\n",
       "      <td>Cafe, Dessert Parlor</td>\n",
       "      <td>Paneer Peri Peri, Pancakes, Fajitas, Sweet Cre...</td>\n",
       "      <td>Cafe, Desserts, Continental</td>\n",
       "      <td>550</td>\n",
       "      <td>Dine-out</td>\n",
       "      <td>Koramangala</td>\n",
       "    </tr>\n",
       "    <tr>\n",
       "      <th>32171</th>\n",
       "      <td>Lot Like Crepes</td>\n",
       "      <td>Yes</td>\n",
       "      <td>No</td>\n",
       "      <td>4.6</td>\n",
       "      <td>1026</td>\n",
       "      <td>Cafe, Dessert Parlor</td>\n",
       "      <td>Paneer Peri Peri, Pancakes, Fajitas, Sweet Cre...</td>\n",
       "      <td>Cafe, Desserts, Continental</td>\n",
       "      <td>550</td>\n",
       "      <td>Cafes</td>\n",
       "      <td>Koramangala</td>\n",
       "    </tr>\n",
       "    <tr>\n",
       "      <th>33043</th>\n",
       "      <td>Lot Like Crepes</td>\n",
       "      <td>Yes</td>\n",
       "      <td>No</td>\n",
       "      <td>4.6</td>\n",
       "      <td>1026</td>\n",
       "      <td>Cafe, Dessert Parlor</td>\n",
       "      <td>Paneer Peri Peri, Pancakes, Fajitas, Sweet Cre...</td>\n",
       "      <td>Cafe, Desserts, Continental</td>\n",
       "      <td>550</td>\n",
       "      <td>Delivery</td>\n",
       "      <td>Koramangala</td>\n",
       "    </tr>\n",
       "    <tr>\n",
       "      <th>33662</th>\n",
       "      <td>Lot Like Crepes</td>\n",
       "      <td>Yes</td>\n",
       "      <td>No</td>\n",
       "      <td>4.6</td>\n",
       "      <td>1026</td>\n",
       "      <td>Cafe, Dessert Parlor</td>\n",
       "      <td>Paneer Peri Peri, Pancakes, Fajitas, Sweet Cre...</td>\n",
       "      <td>Cafe, Desserts, Continental</td>\n",
       "      <td>550</td>\n",
       "      <td>Desserts</td>\n",
       "      <td>Koramangala</td>\n",
       "    </tr>\n",
       "    <tr>\n",
       "      <th>33994</th>\n",
       "      <td>Lot Like Crepes</td>\n",
       "      <td>Yes</td>\n",
       "      <td>No</td>\n",
       "      <td>4.6</td>\n",
       "      <td>1026</td>\n",
       "      <td>Cafe, Dessert Parlor</td>\n",
       "      <td>Paneer Peri Peri, Pancakes, Fajitas, Sweet Cre...</td>\n",
       "      <td>Cafe, Desserts, Continental</td>\n",
       "      <td>550</td>\n",
       "      <td>Dine-out</td>\n",
       "      <td>Koramangala</td>\n",
       "    </tr>\n",
       "    <tr>\n",
       "      <th>34765</th>\n",
       "      <td>Lot Like Crepes</td>\n",
       "      <td>Yes</td>\n",
       "      <td>No</td>\n",
       "      <td>4.6</td>\n",
       "      <td>1026</td>\n",
       "      <td>Cafe, Dessert Parlor</td>\n",
       "      <td>Paneer Peri Peri, Pancakes, Fajitas, Sweet Cre...</td>\n",
       "      <td>Cafe, Desserts, Continental</td>\n",
       "      <td>550</td>\n",
       "      <td>Cafes</td>\n",
       "      <td>Koramangala</td>\n",
       "    </tr>\n",
       "    <tr>\n",
       "      <th>35754</th>\n",
       "      <td>Lot Like Crepes</td>\n",
       "      <td>Yes</td>\n",
       "      <td>No</td>\n",
       "      <td>4.6</td>\n",
       "      <td>1026</td>\n",
       "      <td>Cafe, Dessert Parlor</td>\n",
       "      <td>Paneer Peri Peri, Pancakes, Fajitas, Sweet Cre...</td>\n",
       "      <td>Cafe, Desserts, Continental</td>\n",
       "      <td>550</td>\n",
       "      <td>Delivery</td>\n",
       "      <td>Koramangala</td>\n",
       "    </tr>\n",
       "    <tr>\n",
       "      <th>36393</th>\n",
       "      <td>Lot Like Crepes</td>\n",
       "      <td>Yes</td>\n",
       "      <td>No</td>\n",
       "      <td>4.6</td>\n",
       "      <td>1026</td>\n",
       "      <td>Cafe, Dessert Parlor</td>\n",
       "      <td>Paneer Peri Peri, Pancakes, Fajitas, Sweet Cre...</td>\n",
       "      <td>Cafe, Desserts, Continental</td>\n",
       "      <td>550</td>\n",
       "      <td>Desserts</td>\n",
       "      <td>Koramangala</td>\n",
       "    </tr>\n",
       "    <tr>\n",
       "      <th>36586</th>\n",
       "      <td>Lot Like Crepes</td>\n",
       "      <td>Yes</td>\n",
       "      <td>No</td>\n",
       "      <td>4.6</td>\n",
       "      <td>1027</td>\n",
       "      <td>Cafe, Dessert Parlor</td>\n",
       "      <td>Paneer Peri Peri, Pancakes, Fajitas, Sweet Cre...</td>\n",
       "      <td>Cafe, Desserts, Continental</td>\n",
       "      <td>550</td>\n",
       "      <td>Dine-out</td>\n",
       "      <td>Koramangala</td>\n",
       "    </tr>\n",
       "  </tbody>\n",
       "</table>\n",
       "</div>"
      ],
      "text/plain": [
       "                  name online_order book_table  rate  votes  \\\n",
       "8341   Lot Like Crepes          Yes         No   4.7   1022   \n",
       "9158   Lot Like Crepes          Yes         No   4.7   1022   \n",
       "10269  Lot Like Crepes          Yes         No   4.6   1028   \n",
       "10938  Lot Like Crepes          Yes         No   4.7   1022   \n",
       "20230  Lot Like Crepes          Yes         No   4.6   1024   \n",
       "26568  Lot Like Crepes          Yes         No   4.6   1026   \n",
       "26878  Lot Like Crepes          Yes         No   4.6   1026   \n",
       "28160  Lot Like Crepes          Yes         No   4.6   1026   \n",
       "28463  Lot Like Crepes          Yes         No   4.6   1027   \n",
       "29652  Lot Like Crepes          Yes         No   4.6   1026   \n",
       "30926  Lot Like Crepes          Yes         No   4.6   1026   \n",
       "31280  Lot Like Crepes          Yes         No   4.6   1026   \n",
       "32171  Lot Like Crepes          Yes         No   4.6   1026   \n",
       "33043  Lot Like Crepes          Yes         No   4.6   1026   \n",
       "33662  Lot Like Crepes          Yes         No   4.6   1026   \n",
       "33994  Lot Like Crepes          Yes         No   4.6   1026   \n",
       "34765  Lot Like Crepes          Yes         No   4.6   1026   \n",
       "35754  Lot Like Crepes          Yes         No   4.6   1026   \n",
       "36393  Lot Like Crepes          Yes         No   4.6   1026   \n",
       "36586  Lot Like Crepes          Yes         No   4.6   1027   \n",
       "\n",
       "                  rest_type  \\\n",
       "8341   Cafe, Dessert Parlor   \n",
       "9158   Cafe, Dessert Parlor   \n",
       "10269        Dessert Parlor   \n",
       "10938  Cafe, Dessert Parlor   \n",
       "20230  Cafe, Dessert Parlor   \n",
       "26568  Cafe, Dessert Parlor   \n",
       "26878  Cafe, Dessert Parlor   \n",
       "28160  Cafe, Dessert Parlor   \n",
       "28463  Cafe, Dessert Parlor   \n",
       "29652  Cafe, Dessert Parlor   \n",
       "30926  Cafe, Dessert Parlor   \n",
       "31280  Cafe, Dessert Parlor   \n",
       "32171  Cafe, Dessert Parlor   \n",
       "33043  Cafe, Dessert Parlor   \n",
       "33662  Cafe, Dessert Parlor   \n",
       "33994  Cafe, Dessert Parlor   \n",
       "34765  Cafe, Dessert Parlor   \n",
       "35754  Cafe, Dessert Parlor   \n",
       "36393  Cafe, Dessert Parlor   \n",
       "36586  Cafe, Dessert Parlor   \n",
       "\n",
       "                                              dish_liked  \\\n",
       "8341   Paneer Peri Peri, Pancakes, Fajitas, Sweet Cre...   \n",
       "9158   Paneer Peri Peri, Pancakes, Fajitas, Sweet Cre...   \n",
       "10269  Paneer Peri Peri, Pancakes, Fajitas, Sweet Cre...   \n",
       "10938  Paneer Peri Peri, Pancakes, Fajitas, Sweet Cre...   \n",
       "20230  Paneer Peri Peri, Pancakes, Fajitas, Sweet Cre...   \n",
       "26568  Paneer Peri Peri, Pancakes, Fajitas, Sweet Cre...   \n",
       "26878  Paneer Peri Peri, Pancakes, Fajitas, Sweet Cre...   \n",
       "28160  Paneer Peri Peri, Pancakes, Fajitas, Sweet Cre...   \n",
       "28463  Paneer Peri Peri, Pancakes, Fajitas, Sweet Cre...   \n",
       "29652  Paneer Peri Peri, Pancakes, Fajitas, Sweet Cre...   \n",
       "30926  Paneer Peri Peri, Pancakes, Fajitas, Sweet Cre...   \n",
       "31280  Paneer Peri Peri, Pancakes, Fajitas, Sweet Cre...   \n",
       "32171  Paneer Peri Peri, Pancakes, Fajitas, Sweet Cre...   \n",
       "33043  Paneer Peri Peri, Pancakes, Fajitas, Sweet Cre...   \n",
       "33662  Paneer Peri Peri, Pancakes, Fajitas, Sweet Cre...   \n",
       "33994  Paneer Peri Peri, Pancakes, Fajitas, Sweet Cre...   \n",
       "34765  Paneer Peri Peri, Pancakes, Fajitas, Sweet Cre...   \n",
       "35754  Paneer Peri Peri, Pancakes, Fajitas, Sweet Cre...   \n",
       "36393  Paneer Peri Peri, Pancakes, Fajitas, Sweet Cre...   \n",
       "36586  Paneer Peri Peri, Pancakes, Fajitas, Sweet Cre...   \n",
       "\n",
       "                          cuisines  cost service_type         city  \n",
       "8341   Cafe, Desserts, Continental   550        Cafes          BTM  \n",
       "9158   Cafe, Desserts, Continental   550     Delivery          BTM  \n",
       "10269        Desserts, Continental   550     Desserts          BTM  \n",
       "10938  Cafe, Desserts, Continental   550     Dine-out          BTM  \n",
       "20230  Cafe, Desserts, Continental   550     Delivery    Jayanagar  \n",
       "26568  Cafe, Desserts, Continental   550        Cafes  Koramangala  \n",
       "26878  Cafe, Desserts, Continental   550     Delivery  Koramangala  \n",
       "28160  Cafe, Desserts, Continental   550     Desserts  Koramangala  \n",
       "28463  Cafe, Desserts, Continental   550     Dine-out  Koramangala  \n",
       "29652  Cafe, Desserts, Continental   550     Delivery  Koramangala  \n",
       "30926  Cafe, Desserts, Continental   550     Desserts  Koramangala  \n",
       "31280  Cafe, Desserts, Continental   550     Dine-out  Koramangala  \n",
       "32171  Cafe, Desserts, Continental   550        Cafes  Koramangala  \n",
       "33043  Cafe, Desserts, Continental   550     Delivery  Koramangala  \n",
       "33662  Cafe, Desserts, Continental   550     Desserts  Koramangala  \n",
       "33994  Cafe, Desserts, Continental   550     Dine-out  Koramangala  \n",
       "34765  Cafe, Desserts, Continental   550        Cafes  Koramangala  \n",
       "35754  Cafe, Desserts, Continental   550     Delivery  Koramangala  \n",
       "36393  Cafe, Desserts, Continental   550     Desserts  Koramangala  \n",
       "36586  Cafe, Desserts, Continental   550     Dine-out  Koramangala  "
      ]
     },
     "execution_count": 35,
     "metadata": {},
     "output_type": "execute_result"
    }
   ],
   "source": [
    "high_rated_cheapprice_highvotes_rest = high_rated_cheapprice_rest[high_rated_cheapprice_rest[\"votes\"]>700]\n",
    "best_restuarant = high_rated_cheapprice_highvotes_rest[\"cost\"].min()\n",
    "high_rated_cheapprice_highvotes_rest[high_rated_cheapprice_highvotes_rest[\"cost\"]==best_restuarant].iloc[:,:]\n"
   ]
  },
  {
   "cell_type": "code",
   "execution_count": 36,
   "metadata": {},
   "outputs": [
    {
     "data": {
      "text/plain": [
       "<matplotlib.axes._subplots.AxesSubplot at 0x127254f0>"
      ]
     },
     "execution_count": 36,
     "metadata": {},
     "output_type": "execute_result"
    },
    {
     "data": {
      "image/png": "[encoded data removed]",
      "text/plain": [
       "<Figure size 432x288 with 2 Axes>"
      ]
     },
     "metadata": {
      "needs_background": "light"
     },
     "output_type": "display_data"
    }
   ],
   "source": [
    "sns.heatmap(zomato.corr(),annot = True)"
   ]
  },
  {
   "cell_type": "code",
   "execution_count": 37,
   "metadata": {},
   "outputs": [],
   "source": [
    "def get_num_for_cat(zomato):\n",
    "    for column in zomato.columns[~zomato.columns.isin(['rate', 'cost', 'votes'])]:\n",
    "        zomato[column] = zomato[column].factorize()[0]\n",
    "    return zomato\n",
    "\n",
    "z_fact = get_num_for_cat(zomato.copy())"
   ]
  },
  {
   "cell_type": "code",
   "execution_count": 38,
   "metadata": {},
   "outputs": [],
   "source": [
    "import numpy as np\n",
    "from sklearn.model_selection import train_test_split\n",
    "x = z_fact.loc[:,z_fact.columns!=\"rate\"]\n",
    "y = np.array(z_fact.loc[:,\"rate\"])"
   ]
  },
  {
   "cell_type": "code",
   "execution_count": 39,
   "metadata": {},
   "outputs": [],
   "source": [
    "from sklearn.linear_model import LinearRegression\n",
    "from sklearn.ensemble import RandomForestRegressor\n",
    "from sklearn.metrics import r2_score"
   ]
  },
  {
   "cell_type": "code",
   "execution_count": 40,
   "metadata": {},
   "outputs": [],
   "source": [
    "xtrain,xtest,ytrain,ytest=train_test_split(x,y,test_size=.3,random_state=1)"
   ]
  },
  {
   "cell_type": "markdown",
   "metadata": {},
   "source": [
    "Linear Regression"
   ]
  },
  {
   "cell_type": "code",
   "execution_count": 41,
   "metadata": {},
   "outputs": [
    {
     "data": {
      "text/plain": [
       "6966"
      ]
     },
     "execution_count": 41,
     "metadata": {},
     "output_type": "execute_result"
    }
   ],
   "source": [
    "len(xtest)"
   ]
  },
  {
   "cell_type": "code",
   "execution_count": 48,
   "metadata": {},
   "outputs": [
    {
     "name": "stdout",
     "output_type": "stream",
     "text": [
      "r2_score for Linear Reg model :  0.2352081082673848\n"
     ]
    }
   ],
   "source": [
    "lr_model =LinearRegression()\n",
    "lr_model.fit(xtrain,ytrain)\n",
    "ypred=lr_model.predict(xtest)\n",
    "print(\"r2_score for Linear Reg model : \",r2_score(ytest,ypred))   \n"
   ]
  },
  {
   "cell_type": "markdown",
   "metadata": {},
   "source": [
    "Random Forester"
   ]
  },
  {
   "cell_type": "code",
   "execution_count": 47,
   "metadata": {},
   "outputs": [
    {
     "name": "stdout",
     "output_type": "stream",
     "text": [
      "r2_score for RandomForestRegressor model :  0.8100799758749725\n"
     ]
    }
   ],
   "source": [
    "rf_model = RandomForestRegressor(n_estimators=200,min_samples_split=20,random_state=43)\n",
    "rf_model.fit(xtrain,ytrain)\n",
    "ypred = rf_model.predict(xtest)\n",
    "print(\"r2_score for RandomForestRegressor model : \",r2_score(ytest,ypred))   "
   ]
  },
  {
   "cell_type": "code",
   "execution_count": null,
   "metadata": {},
   "outputs": [],
   "source": []
  }
 ],
 "metadata": {
  "kernelspec": {
   "display_name": "Python 3",
   "language": "python",
   "name": "python3"
  },
  "language_info": {
   "codemirror_mode": {
    "name": "ipython",
    "version": 3
   },
   "file_extension": ".py",
   "mimetype": "text/x-python",
   "name": "python",
   "nbconvert_exporter": "python",
   "pygments_lexer": "ipython3",
   "version": "3.7.1"
  }
 },
 "nbformat": 4,
 "nbformat_minor": 4
}
